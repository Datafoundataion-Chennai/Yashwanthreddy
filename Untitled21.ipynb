{
 "cells": [
  {
   "cell_type": "code",
   "execution_count": null,
   "id": "d5f38602-8dec-4093-bf43-66d0a5d8108f",
   "metadata": {},
   "outputs": [],
   "source": [
    "class InsufficientFundsError(Exception):\n",
    "    \"\"\"Custom exception for insufficient balance\"\"\"\n",
    "    pass\n",
    "\n",
    "class BankAccount:\n",
    "    def __init__(self, balance):\n",
    "        self.balance = balance\n",
    "\n",
    "    def withdraw(self, amount):\n",
    "        \"\"\"\n",
    "        Withdraws money from the account.\n",
    "        \n",
    "        :param amount: Amount to withdraw\n",
    "        :return: Remaining balance or error message\n",
    "        \"\"\"\n",
    "        try:\n",
    "            # TODO: Implement withdrawal logic\n",
    "            pass  \n",
    "        except ValueError:\n",
    "            pass  # TODO: Handle negative withdrawal amounts\n",
    "        except InsufficientFundsError:\n",
    "            pass  # TODO: Handle insufficient funds\n",
    "        except Exception as e:\n",
    "            pass  # TODO: Handle unexpected errors\n",
    "\n",
    "# Example Usage:\n",
    "account = BankAccount(100)\n",
    "print(account.withdraw(150))  # Should raise InsufficientFundsError\n",
    "print(account.withdraw(-10))  \n"
   ]
  },
  {
   "cell_type": "code",
   "execution_count": 101,
   "id": "d68f6561-194e-45e1-98aa-079317f2b4d5",
   "metadata": {},
   "outputs": [
    {
     "data": {
      "text/plain": [
       "31"
      ]
     },
     "execution_count": 101,
     "metadata": {},
     "output_type": "execute_result"
    }
   ],
   "source": [
    "def calculator(a, b, operator):\n",
    "    try:\n",
    "        # TODO: Implement operation handling and raise exceptions for invalid cases\n",
    "        if operator == '+':\n",
    "            c = a + b\n",
    "        elif operator == '-':\n",
    "            c = a - b\n",
    "        elif operator == '*':\n",
    "            c = a * b\n",
    "        elif operator == '**':\n",
    "            c = a ** b\n",
    "        elif operator == '/':\n",
    "            c = a / b\n",
    "        elif operator == '%':\n",
    "            c = a % b\n",
    "        else:\n",
    "            raise Exception('unsupported operator')\n",
    "        return c\n",
    "        \n",
    "    except ZeroDivisionError:\n",
    "        return 'Division by zero'  # TODO: Handle division by zero\n",
    "    except ValueError:\n",
    "        return 'value error'# TODO: Handle invalid numbers\n",
    "    except TypeError:\n",
    "        return 'Invalid input type'  # TODO: Handle non-numeric input\n",
    "    except Exception as e:\n",
    "        return \"Unsupported operator\" # TODO: Handle any unexpected exceptions\n",
    "\n",
    "# Example Usage:\n",
    "calculator(10, 0, \"/\")  # Should return: \"Error: Division by zero\"\n",
    "calculator(10, \"five\", \"+\")  # Should return: \"Error: Invalid input type\"\n",
    "calculator(10, 5, \"$\")  # Should\n",
    "calculator(19, 12, '+')"
   ]
  },
  {
   "cell_type": "code",
   "execution_count": null,
   "id": "f21d9789-208d-48bf-b59b-e1871071dff2",
   "metadata": {},
   "outputs": [],
   "source": []
  }
 ],
 "metadata": {
  "kernelspec": {
   "display_name": "Python 3 (ipykernel)",
   "language": "python",
   "name": "python3"
  },
  "language_info": {
   "codemirror_mode": {
    "name": "ipython",
    "version": 3
   },
   "file_extension": ".py",
   "mimetype": "text/x-python",
   "name": "python",
   "nbconvert_exporter": "python",
   "pygments_lexer": "ipython3",
   "version": "3.12.7"
  }
 },
 "nbformat": 4,
 "nbformat_minor": 5
}
