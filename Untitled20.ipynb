{
 "cells": [
  {
   "cell_type": "code",
   "execution_count": 44,
   "id": "f5f8c2a2-ff17-438f-9409-17b781abcf51",
   "metadata": {},
   "outputs": [
    {
     "name": "stdout",
     "output_type": "stream",
     "text": [
      "Warrior 100 100 100 100\n"
     ]
    }
   ],
   "source": [
    "class character:\n",
    "    def __init__(self, name, health, a_p, defence, speed):\n",
    "        self.name = name\n",
    "        self.health = health\n",
    "        self.attack_power = a_p\n",
    "        self.defence = defence\n",
    "        self.speed = speed\n",
    "\n",
    "    def attack(self, target):\n",
    "        if self.is_alive() and target.is_alive():\n",
    "            damage = max(1, self.attack_powe - target.defence)\n",
    "            target.take_damage(damage)\n",
    "            \n",
    "            \n",
    "\n",
    "    def take_damage(self, amount):\n",
    "        self.health = self.health - self.amount\n",
    "        if self.health < 0:\n",
    "            self.health = 0\n",
    "        \n",
    "            \n",
    "    def is_alive(self):\n",
    "        return self.health > 0\n",
    "        \n",
    "    def display(self):\n",
    "        print(self.name, self.health, self.attack_power, self.defence, self.speed)\n",
    "        \n",
    "\n",
    "char = character(\"Warrior\", 100, 100, 100, 100)\n",
    "char.display()\n",
    "\n",
    "\n",
    "class Warrior(character):\n",
    "    def __init__(self, name):\n",
    "        super().__init__(name, health=120, attack_power=25, defense=10, speed=8)\n",
    "        self.rage = 0 \n",
    "\n",
    "    def take_damage(self, amount):\n",
    "        super().take_damage(amount)\n",
    "        self.rage += amount // 2\n",
    "        if self.health < 30:\n",
    "            print(self.name,\"enters BERSERK MODE! Attack power doubled!\")\n",
    "            self.attack_power *= 2\n",
    "\n",
    "class Mage(character):\n",
    "    def __init__(self, name):\n",
    "        super().__init__(name, health=120, attack_power=25, defense=10, speed=8)\n",
    "        self.mana = 50\n",
    "\n",
    "    def fireball(self, target):\n",
    "        if self.mana >= 10:\n",
    "            self.mana -= 10\n",
    "            damage = self.attack_power + 10\n",
    "            target.take_damage(damage)\n",
    "            self.take_damage(5)\n",
    "            \n",
    "class Archer(character):\n",
    "    def __init__(self, name):\n",
    "        super().__init__(name, health=90, attack_power=22, defense=6, speed=10)\n",
    "        self.critical_chance = 30\n",
    "            \n",
    "\n"
   ]
  },
  {
   "cell_type": "code",
   "execution_count": null,
   "id": "1cc06c5a-5a6b-43fc-8413-efee7d9307f5",
   "metadata": {},
   "outputs": [],
   "source": []
  },
  {
   "cell_type": "code",
   "execution_count": null,
   "id": "a86090cb-618d-4fc1-9d28-eb9c5624ec28",
   "metadata": {},
   "outputs": [],
   "source": []
  }
 ],
 "metadata": {
  "kernelspec": {
   "display_name": "Python 3 (ipykernel)",
   "language": "python",
   "name": "python3"
  },
  "language_info": {
   "codemirror_mode": {
    "name": "ipython",
    "version": 3
   },
   "file_extension": ".py",
   "mimetype": "text/x-python",
   "name": "python",
   "nbconvert_exporter": "python",
   "pygments_lexer": "ipython3",
   "version": "3.12.7"
  }
 },
 "nbformat": 4,
 "nbformat_minor": 5
}
